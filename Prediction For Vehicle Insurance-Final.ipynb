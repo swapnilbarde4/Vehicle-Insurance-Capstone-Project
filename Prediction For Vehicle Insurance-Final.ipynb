{
 "cells": [
  {
   "cell_type": "markdown",
   "metadata": {},
   "source": [
    "### Swapnil Barde"
   ]
  },
  {
   "cell_type": "markdown",
   "metadata": {},
   "source": [
    "###### 1. Load Libraries"
   ]
  },
  {
   "cell_type": "code",
   "execution_count": 1,
   "metadata": {},
   "outputs": [],
   "source": [
    "import pandas as pd\n",
    "from pandas import DataFrame, Series\n",
    "import numpy as np\n",
    "import matplotlib.pyplot as plt\n",
    "import seaborn as sns\n",
    "\n",
    "from sklearn.preprocessing import LabelEncoder\n",
    "from sklearn.model_selection import train_test_split\n",
    "from sklearn import metrics\n",
    "from scipy.stats import skew\n",
    "\n",
    "\n",
    "\n",
    "import warnings\n",
    "warnings.filterwarnings('always')\n",
    "warnings.filterwarnings('ignore')\n"
   ]
  },
  {
   "cell_type": "markdown",
   "metadata": {},
   "source": [
    "###### 2. Data Mining & Inspection"
   ]
  },
  {
   "cell_type": "markdown",
   "metadata": {},
   "source": [
    "* **1. id:**\tUnique ID for the customer\n",
    "\n",
    "\n",
    "* **2. Gender:**\tGender of the customer\n",
    "\n",
    "\n",
    "* **3. Age:**\tAge of the customer\n",
    "\n",
    "\n",
    "* **4. Driving_License:**\t   **1** : Customer already has DL, **0**: Customer does not have DL\n",
    "\n",
    "\n",
    "* **5. Region_Code:**\tUnique code for the region of the customer\n",
    "\n",
    "\n",
    "* **6. Previously_Insured:**\t  **1** : Customer already has Vehicle Insurance, **0** : Customer doesn't have Vehicle Insurance\n",
    "\n",
    "\n",
    "* **7. Vehicle_Age:**\tAge of the Vehicle\n",
    "\n",
    "\n",
    "* **8. Vehicle_Damage:**\t**1** : Customer got his/her vehicle damaged in the past. **0** : Customer didn't get his/her vehicle                damaged in the past.\n",
    "\n",
    "\n",
    "* **9. Annual_Premium:**\tThe amount customer needs to pay as premium in the year\n",
    "\n",
    "\n",
    "* **10. PolicySalesChannel:**\tAnonymized Code for the channel of outreaching to the customer ie. Different Agents, Over                Mail, Over Phone, In Person, etc.\n",
    "\n",
    "\n",
    "* **11. Vintage:**\tNumber of Days, Customer has been associated with the company\n",
    "\n",
    "\n",
    "* **12. Response:**\t**1** : Customer is interested, **0** : Customer is not interested"
   ]
  },
  {
   "cell_type": "code",
   "execution_count": 2,
   "metadata": {},
   "outputs": [],
   "source": [
    "train = pd.read_csv('train.csv',na_values=['?'])\n",
    "test = pd.read_csv('test.csv', na_values=['?'])"
   ]
  },
  {
   "cell_type": "code",
   "execution_count": 3,
   "metadata": {},
   "outputs": [
    {
     "data": {
      "text/html": [
       "<div>\n",
       "<style scoped>\n",
       "    .dataframe tbody tr th:only-of-type {\n",
       "        vertical-align: middle;\n",
       "    }\n",
       "\n",
       "    .dataframe tbody tr th {\n",
       "        vertical-align: top;\n",
       "    }\n",
       "\n",
       "    .dataframe thead th {\n",
       "        text-align: right;\n",
       "    }\n",
       "</style>\n",
       "<table border=\"1\" class=\"dataframe\">\n",
       "  <thead>\n",
       "    <tr style=\"text-align: right;\">\n",
       "      <th></th>\n",
       "      <th>id</th>\n",
       "      <th>Gender</th>\n",
       "      <th>Age</th>\n",
       "      <th>Driving_License</th>\n",
       "      <th>Region_Code</th>\n",
       "      <th>Previously_Insured</th>\n",
       "      <th>Vehicle_Age</th>\n",
       "      <th>Vehicle_Damage</th>\n",
       "      <th>Annual_Premium</th>\n",
       "      <th>Policy_Sales_Channel</th>\n",
       "      <th>Vintage</th>\n",
       "      <th>Response</th>\n",
       "    </tr>\n",
       "  </thead>\n",
       "  <tbody>\n",
       "    <tr>\n",
       "      <th>0</th>\n",
       "      <td>1</td>\n",
       "      <td>Male</td>\n",
       "      <td>44</td>\n",
       "      <td>1</td>\n",
       "      <td>28.0</td>\n",
       "      <td>0</td>\n",
       "      <td>&gt; 2 Years</td>\n",
       "      <td>Yes</td>\n",
       "      <td>40454.0</td>\n",
       "      <td>26.0</td>\n",
       "      <td>217</td>\n",
       "      <td>1</td>\n",
       "    </tr>\n",
       "    <tr>\n",
       "      <th>1</th>\n",
       "      <td>2</td>\n",
       "      <td>Male</td>\n",
       "      <td>76</td>\n",
       "      <td>1</td>\n",
       "      <td>3.0</td>\n",
       "      <td>0</td>\n",
       "      <td>1-2 Year</td>\n",
       "      <td>No</td>\n",
       "      <td>33536.0</td>\n",
       "      <td>26.0</td>\n",
       "      <td>183</td>\n",
       "      <td>0</td>\n",
       "    </tr>\n",
       "    <tr>\n",
       "      <th>2</th>\n",
       "      <td>3</td>\n",
       "      <td>Male</td>\n",
       "      <td>47</td>\n",
       "      <td>1</td>\n",
       "      <td>28.0</td>\n",
       "      <td>0</td>\n",
       "      <td>&gt; 2 Years</td>\n",
       "      <td>Yes</td>\n",
       "      <td>38294.0</td>\n",
       "      <td>26.0</td>\n",
       "      <td>27</td>\n",
       "      <td>1</td>\n",
       "    </tr>\n",
       "    <tr>\n",
       "      <th>3</th>\n",
       "      <td>4</td>\n",
       "      <td>Male</td>\n",
       "      <td>21</td>\n",
       "      <td>1</td>\n",
       "      <td>11.0</td>\n",
       "      <td>1</td>\n",
       "      <td>&lt; 1 Year</td>\n",
       "      <td>No</td>\n",
       "      <td>28619.0</td>\n",
       "      <td>152.0</td>\n",
       "      <td>203</td>\n",
       "      <td>0</td>\n",
       "    </tr>\n",
       "    <tr>\n",
       "      <th>4</th>\n",
       "      <td>5</td>\n",
       "      <td>Female</td>\n",
       "      <td>29</td>\n",
       "      <td>1</td>\n",
       "      <td>41.0</td>\n",
       "      <td>1</td>\n",
       "      <td>&lt; 1 Year</td>\n",
       "      <td>No</td>\n",
       "      <td>27496.0</td>\n",
       "      <td>152.0</td>\n",
       "      <td>39</td>\n",
       "      <td>0</td>\n",
       "    </tr>\n",
       "  </tbody>\n",
       "</table>\n",
       "</div>"
      ],
      "text/plain": [
       "   id  Gender  Age  Driving_License  Region_Code  Previously_Insured  \\\n",
       "0   1    Male   44                1         28.0                   0   \n",
       "1   2    Male   76                1          3.0                   0   \n",
       "2   3    Male   47                1         28.0                   0   \n",
       "3   4    Male   21                1         11.0                   1   \n",
       "4   5  Female   29                1         41.0                   1   \n",
       "\n",
       "  Vehicle_Age Vehicle_Damage  Annual_Premium  Policy_Sales_Channel  Vintage  \\\n",
       "0   > 2 Years            Yes         40454.0                  26.0      217   \n",
       "1    1-2 Year             No         33536.0                  26.0      183   \n",
       "2   > 2 Years            Yes         38294.0                  26.0       27   \n",
       "3    < 1 Year             No         28619.0                 152.0      203   \n",
       "4    < 1 Year             No         27496.0                 152.0       39   \n",
       "\n",
       "   Response  \n",
       "0         1  \n",
       "1         0  \n",
       "2         1  \n",
       "3         0  \n",
       "4         0  "
      ]
     },
     "execution_count": 3,
     "metadata": {},
     "output_type": "execute_result"
    }
   ],
   "source": [
    "train.head()"
   ]
  },
  {
   "cell_type": "code",
   "execution_count": 4,
   "metadata": {},
   "outputs": [
    {
     "data": {
      "text/plain": [
       "(381109, 12)"
      ]
     },
     "execution_count": 4,
     "metadata": {},
     "output_type": "execute_result"
    }
   ],
   "source": [
    "train.shape"
   ]
  },
  {
   "cell_type": "code",
   "execution_count": 5,
   "metadata": {},
   "outputs": [
    {
     "data": {
      "text/plain": [
       "(127037, 11)"
      ]
     },
     "execution_count": 5,
     "metadata": {},
     "output_type": "execute_result"
    }
   ],
   "source": [
    "test.shape"
   ]
  },
  {
   "cell_type": "code",
   "execution_count": 6,
   "metadata": {},
   "outputs": [
    {
     "name": "stdout",
     "output_type": "stream",
     "text": [
      "<class 'pandas.core.frame.DataFrame'>\n",
      "RangeIndex: 381109 entries, 0 to 381108\n",
      "Data columns (total 12 columns):\n",
      " #   Column                Non-Null Count   Dtype  \n",
      "---  ------                --------------   -----  \n",
      " 0   id                    381109 non-null  int64  \n",
      " 1   Gender                381109 non-null  object \n",
      " 2   Age                   381109 non-null  int64  \n",
      " 3   Driving_License       381109 non-null  int64  \n",
      " 4   Region_Code           381109 non-null  float64\n",
      " 5   Previously_Insured    381109 non-null  int64  \n",
      " 6   Vehicle_Age           381109 non-null  object \n",
      " 7   Vehicle_Damage        381109 non-null  object \n",
      " 8   Annual_Premium        381109 non-null  float64\n",
      " 9   Policy_Sales_Channel  381109 non-null  float64\n",
      " 10  Vintage               381109 non-null  int64  \n",
      " 11  Response              381109 non-null  int64  \n",
      "dtypes: float64(3), int64(6), object(3)\n",
      "memory usage: 34.9+ MB\n",
      "None\n",
      "***********************************************\n",
      "<class 'pandas.core.frame.DataFrame'>\n",
      "RangeIndex: 127037 entries, 0 to 127036\n",
      "Data columns (total 11 columns):\n",
      " #   Column                Non-Null Count   Dtype  \n",
      "---  ------                --------------   -----  \n",
      " 0   id                    127037 non-null  int64  \n",
      " 1   Gender                127037 non-null  object \n",
      " 2   Age                   127037 non-null  int64  \n",
      " 3   Driving_License       127037 non-null  int64  \n",
      " 4   Region_Code           127037 non-null  float64\n",
      " 5   Previously_Insured    127037 non-null  int64  \n",
      " 6   Vehicle_Age           127037 non-null  object \n",
      " 7   Vehicle_Damage        127037 non-null  object \n",
      " 8   Annual_Premium        127037 non-null  float64\n",
      " 9   Policy_Sales_Channel  127037 non-null  float64\n",
      " 10  Vintage               127037 non-null  int64  \n",
      "dtypes: float64(3), int64(5), object(3)\n",
      "memory usage: 10.7+ MB\n",
      "None\n"
     ]
    }
   ],
   "source": [
    "print(train.info())\n",
    "print('***********************************************')\n",
    "print(test.info())"
   ]
  },
  {
   "cell_type": "code",
   "execution_count": 7,
   "metadata": {},
   "outputs": [
    {
     "data": {
      "text/html": [
       "<div>\n",
       "<style scoped>\n",
       "    .dataframe tbody tr th:only-of-type {\n",
       "        vertical-align: middle;\n",
       "    }\n",
       "\n",
       "    .dataframe tbody tr th {\n",
       "        vertical-align: top;\n",
       "    }\n",
       "\n",
       "    .dataframe thead th {\n",
       "        text-align: right;\n",
       "    }\n",
       "</style>\n",
       "<table border=\"1\" class=\"dataframe\">\n",
       "  <thead>\n",
       "    <tr style=\"text-align: right;\">\n",
       "      <th></th>\n",
       "      <th>count</th>\n",
       "      <th>mean</th>\n",
       "      <th>std</th>\n",
       "      <th>min</th>\n",
       "      <th>25%</th>\n",
       "      <th>50%</th>\n",
       "      <th>75%</th>\n",
       "      <th>max</th>\n",
       "    </tr>\n",
       "  </thead>\n",
       "  <tbody>\n",
       "    <tr>\n",
       "      <th>id</th>\n",
       "      <td>381109.0</td>\n",
       "      <td>190555.000000</td>\n",
       "      <td>110016.836208</td>\n",
       "      <td>1.0</td>\n",
       "      <td>95278.0</td>\n",
       "      <td>190555.0</td>\n",
       "      <td>285832.0</td>\n",
       "      <td>381109.0</td>\n",
       "    </tr>\n",
       "    <tr>\n",
       "      <th>Age</th>\n",
       "      <td>381109.0</td>\n",
       "      <td>38.822584</td>\n",
       "      <td>15.511611</td>\n",
       "      <td>20.0</td>\n",
       "      <td>25.0</td>\n",
       "      <td>36.0</td>\n",
       "      <td>49.0</td>\n",
       "      <td>85.0</td>\n",
       "    </tr>\n",
       "    <tr>\n",
       "      <th>Driving_License</th>\n",
       "      <td>381109.0</td>\n",
       "      <td>0.997869</td>\n",
       "      <td>0.046110</td>\n",
       "      <td>0.0</td>\n",
       "      <td>1.0</td>\n",
       "      <td>1.0</td>\n",
       "      <td>1.0</td>\n",
       "      <td>1.0</td>\n",
       "    </tr>\n",
       "    <tr>\n",
       "      <th>Region_Code</th>\n",
       "      <td>381109.0</td>\n",
       "      <td>26.388807</td>\n",
       "      <td>13.229888</td>\n",
       "      <td>0.0</td>\n",
       "      <td>15.0</td>\n",
       "      <td>28.0</td>\n",
       "      <td>35.0</td>\n",
       "      <td>52.0</td>\n",
       "    </tr>\n",
       "    <tr>\n",
       "      <th>Previously_Insured</th>\n",
       "      <td>381109.0</td>\n",
       "      <td>0.458210</td>\n",
       "      <td>0.498251</td>\n",
       "      <td>0.0</td>\n",
       "      <td>0.0</td>\n",
       "      <td>0.0</td>\n",
       "      <td>1.0</td>\n",
       "      <td>1.0</td>\n",
       "    </tr>\n",
       "    <tr>\n",
       "      <th>Annual_Premium</th>\n",
       "      <td>381109.0</td>\n",
       "      <td>30564.389581</td>\n",
       "      <td>17213.155057</td>\n",
       "      <td>2630.0</td>\n",
       "      <td>24405.0</td>\n",
       "      <td>31669.0</td>\n",
       "      <td>39400.0</td>\n",
       "      <td>540165.0</td>\n",
       "    </tr>\n",
       "    <tr>\n",
       "      <th>Policy_Sales_Channel</th>\n",
       "      <td>381109.0</td>\n",
       "      <td>112.034295</td>\n",
       "      <td>54.203995</td>\n",
       "      <td>1.0</td>\n",
       "      <td>29.0</td>\n",
       "      <td>133.0</td>\n",
       "      <td>152.0</td>\n",
       "      <td>163.0</td>\n",
       "    </tr>\n",
       "    <tr>\n",
       "      <th>Vintage</th>\n",
       "      <td>381109.0</td>\n",
       "      <td>154.347397</td>\n",
       "      <td>83.671304</td>\n",
       "      <td>10.0</td>\n",
       "      <td>82.0</td>\n",
       "      <td>154.0</td>\n",
       "      <td>227.0</td>\n",
       "      <td>299.0</td>\n",
       "    </tr>\n",
       "    <tr>\n",
       "      <th>Response</th>\n",
       "      <td>381109.0</td>\n",
       "      <td>0.122563</td>\n",
       "      <td>0.327936</td>\n",
       "      <td>0.0</td>\n",
       "      <td>0.0</td>\n",
       "      <td>0.0</td>\n",
       "      <td>0.0</td>\n",
       "      <td>1.0</td>\n",
       "    </tr>\n",
       "  </tbody>\n",
       "</table>\n",
       "</div>"
      ],
      "text/plain": [
       "                         count           mean            std     min      25%  \\\n",
       "id                    381109.0  190555.000000  110016.836208     1.0  95278.0   \n",
       "Age                   381109.0      38.822584      15.511611    20.0     25.0   \n",
       "Driving_License       381109.0       0.997869       0.046110     0.0      1.0   \n",
       "Region_Code           381109.0      26.388807      13.229888     0.0     15.0   \n",
       "Previously_Insured    381109.0       0.458210       0.498251     0.0      0.0   \n",
       "Annual_Premium        381109.0   30564.389581   17213.155057  2630.0  24405.0   \n",
       "Policy_Sales_Channel  381109.0     112.034295      54.203995     1.0     29.0   \n",
       "Vintage               381109.0     154.347397      83.671304    10.0     82.0   \n",
       "Response              381109.0       0.122563       0.327936     0.0      0.0   \n",
       "\n",
       "                           50%       75%       max  \n",
       "id                    190555.0  285832.0  381109.0  \n",
       "Age                       36.0      49.0      85.0  \n",
       "Driving_License            1.0       1.0       1.0  \n",
       "Region_Code               28.0      35.0      52.0  \n",
       "Previously_Insured         0.0       1.0       1.0  \n",
       "Annual_Premium         31669.0   39400.0  540165.0  \n",
       "Policy_Sales_Channel     133.0     152.0     163.0  \n",
       "Vintage                  154.0     227.0     299.0  \n",
       "Response                   0.0       0.0       1.0  "
      ]
     },
     "execution_count": 7,
     "metadata": {},
     "output_type": "execute_result"
    }
   ],
   "source": [
    "train.describe().T"
   ]
  },
  {
   "cell_type": "code",
   "execution_count": 8,
   "metadata": {},
   "outputs": [
    {
     "data": {
      "text/plain": [
       "id                      0.0\n",
       "Gender                  0.0\n",
       "Age                     0.0\n",
       "Driving_License         0.0\n",
       "Region_Code             0.0\n",
       "Previously_Insured      0.0\n",
       "Vehicle_Age             0.0\n",
       "Vehicle_Damage          0.0\n",
       "Annual_Premium          0.0\n",
       "Policy_Sales_Channel    0.0\n",
       "Vintage                 0.0\n",
       "Response                0.0\n",
       "dtype: float64"
      ]
     },
     "execution_count": 8,
     "metadata": {},
     "output_type": "execute_result"
    }
   ],
   "source": [
    "train.isnull().sum()/train.shape[0] *100"
   ]
  },
  {
   "cell_type": "code",
   "execution_count": 9,
   "metadata": {},
   "outputs": [
    {
     "data": {
      "text/plain": [
       "id                      0.0\n",
       "Gender                  0.0\n",
       "Age                     0.0\n",
       "Driving_License         0.0\n",
       "Region_Code             0.0\n",
       "Previously_Insured      0.0\n",
       "Vehicle_Age             0.0\n",
       "Vehicle_Damage          0.0\n",
       "Annual_Premium          0.0\n",
       "Policy_Sales_Channel    0.0\n",
       "Vintage                 0.0\n",
       "dtype: float64"
      ]
     },
     "execution_count": 9,
     "metadata": {},
     "output_type": "execute_result"
    }
   ],
   "source": [
    "test.isnull().sum()/train.shape[0] *100"
   ]
  },
  {
   "cell_type": "code",
   "execution_count": 10,
   "metadata": {},
   "outputs": [
    {
     "name": "stdout",
     "output_type": "stream",
     "text": [
      "id                      0\n",
      "Gender                  0\n",
      "Age                     0\n",
      "Driving_License         0\n",
      "Region_Code             0\n",
      "Previously_Insured      0\n",
      "Vehicle_Age             0\n",
      "Vehicle_Damage          0\n",
      "Annual_Premium          0\n",
      "Policy_Sales_Channel    0\n",
      "Vintage                 0\n",
      "Response                0\n",
      "dtype: int64\n",
      "\n",
      " id                      0\n",
      "Gender                  0\n",
      "Age                     0\n",
      "Driving_License         0\n",
      "Region_Code             0\n",
      "Previously_Insured      0\n",
      "Vehicle_Age             0\n",
      "Vehicle_Damage          0\n",
      "Annual_Premium          0\n",
      "Policy_Sales_Channel    0\n",
      "Vintage                 0\n",
      "dtype: int64\n"
     ]
    }
   ],
   "source": [
    "print(train.isnull().sum())\n",
    "print('\\n', test.isnull().sum())"
   ]
  },
  {
   "cell_type": "markdown",
   "metadata": {},
   "source": [
    "* **We can see that there is no missing values in our dataset. Thus we do not need to impute any values and can proceed for further analysis**\n"
   ]
  },
  {
   "cell_type": "markdown",
   "metadata": {},
   "source": [
    "###### 3. Exploratory Data Analysis"
   ]
  },
  {
   "cell_type": "code",
   "execution_count": 11,
   "metadata": {},
   "outputs": [
    {
     "data": {
      "text/plain": [
       "array(['Male', 'Female'], dtype=object)"
      ]
     },
     "execution_count": 11,
     "metadata": {},
     "output_type": "execute_result"
    }
   ],
   "source": [
    "train['Gender'].unique()"
   ]
  },
  {
   "cell_type": "code",
   "execution_count": 12,
   "metadata": {},
   "outputs": [
    {
     "data": {
      "text/plain": [
       "Male      206089\n",
       "Female    175020\n",
       "Name: Gender, dtype: int64"
      ]
     },
     "execution_count": 12,
     "metadata": {},
     "output_type": "execute_result"
    }
   ],
   "source": [
    "train['Gender'].value_counts()"
   ]
  },
  {
   "cell_type": "code",
   "execution_count": 13,
   "metadata": {},
   "outputs": [
    {
     "data": {
      "image/png": "[encoded data removed]",
      "text/plain": [
       "<Figure size 720x360 with 2 Axes>"
      ]
     },
     "metadata": {
      "needs_background": "light"
     },
     "output_type": "display_data"
    }
   ],
   "source": [
    "plt.figure(figsize=(10,5))\n",
    "\n",
    "plt.subplot(1,2,1)  #Univariate Analysis\n",
    "plt.title('Count of Male and Female')\n",
    "sns.countplot(train['Gender'])\n",
    "\n",
    "plt.subplot(1,2,2)\n",
    "plt.pie(train['Gender'].value_counts(), explode=[0.05,0] ,autopct='%.1f%%', labels=['Male', 'Female'], labeldistance=1.1)\n",
    "plt.title('Percentage of Male and Female')\n",
    "\n",
    "plt.legend()\n",
    "plt.show()"
   ]
  },
  {
   "cell_type": "markdown",
   "metadata": {},
   "source": [
    "* **Conclusion -** Above Plots shows that Male tend to subscribe to insurence more than female. \n",
    "  Therefore we can assume that gender plays an important role in model building.\n",
    "\n"
   ]
  },
  {
   "cell_type": "code",
   "execution_count": 14,
   "metadata": {},
   "outputs": [
    {
     "name": "stdout",
     "output_type": "stream",
     "text": [
      "38.822583565331705\n"
     ]
    }
   ],
   "source": [
    "print(train['Age'].mean())"
   ]
  },
  {
   "cell_type": "code",
   "execution_count": 15,
   "metadata": {},
   "outputs": [
    {
     "name": "stdout",
     "output_type": "stream",
     "text": [
      "0    24\n",
      "dtype: int64\n"
     ]
    }
   ],
   "source": [
    "print(train['Age'].mode())\n"
   ]
  },
  {
   "cell_type": "code",
   "execution_count": 16,
   "metadata": {},
   "outputs": [
    {
     "data": {
      "image/png": "[encoded data removed]",
      "text/plain": [
       "<Figure size 432x288 with 1 Axes>"
      ]
     },
     "metadata": {
      "needs_background": "light"
     },
     "output_type": "display_data"
    }
   ],
   "source": [
    "sns.distplot(x=train['Age'])\n",
    "plt.xlabel('Age')\n",
    "plt.show()"
   ]
  },
  {
   "cell_type": "code",
   "execution_count": 17,
   "metadata": {},
   "outputs": [
    {
     "name": "stdout",
     "output_type": "stream",
     "text": [
      "0.6725363506891485\n"
     ]
    }
   ],
   "source": [
    "print(skew(train['Age']))\n"
   ]
  },
  {
   "cell_type": "markdown",
   "metadata": {},
   "source": [
    "* So here Age column has moderate skew, positive skew but its ok"
   ]
  },
  {
   "cell_type": "code",
   "execution_count": 18,
   "metadata": {},
   "outputs": [
    {
     "data": {
      "image/png": "[encoded data removed]",
      "text/plain": [
       "<Figure size 432x288 with 1 Axes>"
      ]
     },
     "metadata": {
      "needs_background": "light"
     },
     "output_type": "display_data"
    }
   ],
   "source": [
    "sns.boxplot(train['Age'])\n",
    "plt.show()"
   ]
  },
  {
   "cell_type": "code",
   "execution_count": 19,
   "metadata": {},
   "outputs": [
    {
     "data": {
      "text/html": [
       "<div>\n",
       "<style scoped>\n",
       "    .dataframe tbody tr th:only-of-type {\n",
       "        vertical-align: middle;\n",
       "    }\n",
       "\n",
       "    .dataframe tbody tr th {\n",
       "        vertical-align: top;\n",
       "    }\n",
       "\n",
       "    .dataframe thead th {\n",
       "        text-align: right;\n",
       "    }\n",
       "</style>\n",
       "<table border=\"1\" class=\"dataframe\">\n",
       "  <thead>\n",
       "    <tr style=\"text-align: right;\">\n",
       "      <th></th>\n",
       "      <th>id</th>\n",
       "      <th>Gender</th>\n",
       "      <th>Age</th>\n",
       "      <th>Driving_License</th>\n",
       "      <th>Region_Code</th>\n",
       "      <th>Previously_Insured</th>\n",
       "      <th>Vehicle_Age</th>\n",
       "      <th>Vehicle_Damage</th>\n",
       "      <th>Annual_Premium</th>\n",
       "      <th>Policy_Sales_Channel</th>\n",
       "      <th>Vintage</th>\n",
       "      <th>Response</th>\n",
       "    </tr>\n",
       "  </thead>\n",
       "  <tbody>\n",
       "    <tr>\n",
       "      <th>0</th>\n",
       "      <td>1</td>\n",
       "      <td>Male</td>\n",
       "      <td>44</td>\n",
       "      <td>1</td>\n",
       "      <td>28.0</td>\n",
       "      <td>0</td>\n",
       "      <td>&gt; 2 Years</td>\n",
       "      <td>Yes</td>\n",
       "      <td>40454.0</td>\n",
       "      <td>26.0</td>\n",
       "      <td>217</td>\n",
       "      <td>1</td>\n",
       "    </tr>\n",
       "    <tr>\n",
       "      <th>1</th>\n",
       "      <td>2</td>\n",
       "      <td>Male</td>\n",
       "      <td>76</td>\n",
       "      <td>1</td>\n",
       "      <td>3.0</td>\n",
       "      <td>0</td>\n",
       "      <td>1-2 Year</td>\n",
       "      <td>No</td>\n",
       "      <td>33536.0</td>\n",
       "      <td>26.0</td>\n",
       "      <td>183</td>\n",
       "      <td>0</td>\n",
       "    </tr>\n",
       "    <tr>\n",
       "      <th>2</th>\n",
       "      <td>3</td>\n",
       "      <td>Male</td>\n",
       "      <td>47</td>\n",
       "      <td>1</td>\n",
       "      <td>28.0</td>\n",
       "      <td>0</td>\n",
       "      <td>&gt; 2 Years</td>\n",
       "      <td>Yes</td>\n",
       "      <td>38294.0</td>\n",
       "      <td>26.0</td>\n",
       "      <td>27</td>\n",
       "      <td>1</td>\n",
       "    </tr>\n",
       "    <tr>\n",
       "      <th>3</th>\n",
       "      <td>4</td>\n",
       "      <td>Male</td>\n",
       "      <td>21</td>\n",
       "      <td>1</td>\n",
       "      <td>11.0</td>\n",
       "      <td>1</td>\n",
       "      <td>&lt; 1 Year</td>\n",
       "      <td>No</td>\n",
       "      <td>28619.0</td>\n",
       "      <td>152.0</td>\n",
       "      <td>203</td>\n",
       "      <td>0</td>\n",
       "    </tr>\n",
       "    <tr>\n",
       "      <th>4</th>\n",
       "      <td>5</td>\n",
       "      <td>Female</td>\n",
       "      <td>29</td>\n",
       "      <td>1</td>\n",
       "      <td>41.0</td>\n",
       "      <td>1</td>\n",
       "      <td>&lt; 1 Year</td>\n",
       "      <td>No</td>\n",
       "      <td>27496.0</td>\n",
       "      <td>152.0</td>\n",
       "      <td>39</td>\n",
       "      <td>0</td>\n",
       "    </tr>\n",
       "  </tbody>\n",
       "</table>\n",
       "</div>"
      ],
      "text/plain": [
       "   id  Gender  Age  Driving_License  Region_Code  Previously_Insured  \\\n",
       "0   1    Male   44                1         28.0                   0   \n",
       "1   2    Male   76                1          3.0                   0   \n",
       "2   3    Male   47                1         28.0                   0   \n",
       "3   4    Male   21                1         11.0                   1   \n",
       "4   5  Female   29                1         41.0                   1   \n",
       "\n",
       "  Vehicle_Age Vehicle_Damage  Annual_Premium  Policy_Sales_Channel  Vintage  \\\n",
       "0   > 2 Years            Yes         40454.0                  26.0      217   \n",
       "1    1-2 Year             No         33536.0                  26.0      183   \n",
       "2   > 2 Years            Yes         38294.0                  26.0       27   \n",
       "3    < 1 Year             No         28619.0                 152.0      203   \n",
       "4    < 1 Year             No         27496.0                 152.0       39   \n",
       "\n",
       "   Response  \n",
       "0         1  \n",
       "1         0  \n",
       "2         1  \n",
       "3         0  \n",
       "4         0  "
      ]
     },
     "execution_count": 19,
     "metadata": {},
     "output_type": "execute_result"
    }
   ],
   "source": [
    "train.head()"
   ]
  },
  {
   "cell_type": "code",
   "execution_count": 20,
   "metadata": {},
   "outputs": [
    {
     "data": {
      "text/plain": [
       "1    380297\n",
       "0       812\n",
       "Name: Driving_License, dtype: int64"
      ]
     },
     "execution_count": 20,
     "metadata": {},
     "output_type": "execute_result"
    }
   ],
   "source": [
    "train['Driving_License'].value_counts()"
   ]
  },
  {
   "cell_type": "markdown",
   "metadata": {},
   "source": [
    "* This shows that most of all people have driving license.. That's Good "
   ]
  },
  {
   "cell_type": "code",
   "execution_count": 21,
   "metadata": {},
   "outputs": [
    {
     "data": {
      "image/png": "[encoded data removed]",
      "text/plain": [
       "<Figure size 432x288 with 1 Axes>"
      ]
     },
     "metadata": {
      "needs_background": "light"
     },
     "output_type": "display_data"
    }
   ],
   "source": [
    "plt.figure(figsize=(6,4))\n",
    "sns.countplot('Gender',hue = 'Driving_License', data=train, palette='twilight')\n",
    "plt.show()"
   ]
  },
  {
   "cell_type": "code",
   "execution_count": 22,
   "metadata": {},
   "outputs": [
    {
     "data": {
      "image/png": "[encoded data removed]",
      "text/plain": [
       "<Figure size 720x360 with 2 Axes>"
      ]
     },
     "metadata": {
      "needs_background": "light"
     },
     "output_type": "display_data"
    }
   ],
   "source": [
    "plt.figure(figsize=(10,5))\n",
    "\n",
    "plt.subplot(1,2,1)\n",
    "sns.countplot(x = train[\"Previously_Insured\"], palette='summer')\n",
    "\n",
    "plt.subplot(1,2,2)\n",
    "plt.pie(train['Previously_Insured'].value_counts(), explode=[0.025,0] ,autopct='%.1f%%', labels=['No', 'Yes'],\n",
    "        labeldistance=1.1)\n",
    "plt.title('Percentage of customers who were Previously Insured')\n",
    "\n",
    "plt.show()"
   ]
  },
  {
   "cell_type": "markdown",
   "metadata": {},
   "source": [
    "* **Conclusion -** So here we can see that most of the people have not previously insured "
   ]
  },
  {
   "cell_type": "code",
   "execution_count": 23,
   "metadata": {},
   "outputs": [
    {
     "data": {
      "image/png": "[encoded data removed]",
      "text/plain": [
       "<Figure size 432x288 with 1 Axes>"
      ]
     },
     "metadata": {},
     "output_type": "display_data"
    }
   ],
   "source": [
    "plt.pie(train['Vehicle_Age'].value_counts(), explode=[0.025,0.05, 0] ,colors=[ 'blue', 'green', 'orange'], \n",
    "        autopct='%.1f%%', \n",
    "        labels=list(train['Vehicle_Age'].value_counts().index), labeldistance=1.1)\n",
    "plt.title('Overall Percentage of Vehicle age')\n",
    "plt.show()"
   ]
  },
  {
   "cell_type": "code",
   "execution_count": 24,
   "metadata": {},
   "outputs": [
    {
     "data": {
      "image/png": "[encoded data removed]",
      "text/plain": [
       "<Figure size 432x288 with 1 Axes>"
      ]
     },
     "metadata": {
      "needs_background": "light"
     },
     "output_type": "display_data"
    }
   ],
   "source": [
    "#Univariate Analysis\n",
    "sns.countplot(train['Vehicle_Age'],hue=train['Response'],palette='viridis')\n",
    "plt.title('Vehicle Age with Response Comparison',fontsize=15)\n",
    "plt.ylabel('Response')\n",
    "plt.show()"
   ]
  },
  {
   "cell_type": "markdown",
   "metadata": {},
   "source": [
    "* We can see that buyers whose vehicle are between 1 to 2 years are more entrusted to buy insurance rather whose vehicle are less than 1 year or more than 2 years."
   ]
  },
  {
   "cell_type": "code",
   "execution_count": 25,
   "metadata": {},
   "outputs": [
    {
     "data": {
      "image/png": "[encoded data removed]",
      "text/plain": [
       "<Figure size 1080x360 with 1 Axes>"
      ]
     },
     "metadata": {
      "needs_background": "light"
     },
     "output_type": "display_data"
    }
   ],
   "source": [
    "plt.figure(figsize = (15,5))\n",
    "sns.boxplot(train['Annual_Premium'])\n",
    "plt.title('Box Plot')\n",
    "plt.show()"
   ]
  },
  {
   "cell_type": "markdown",
   "metadata": {},
   "source": [
    "* Question here is should we remove these ouliers in Annual_Premium data , but I think if a person is paying money more than Rs61892 annually , may he/she is a rich person who is capable of paying that much more money than others\n",
    "* 10392 people are outliers if we remove them we can loss data from the table\n",
    "* So the conclusion is we won't change anything is annual_premium data"
   ]
  },
  {
   "cell_type": "code",
   "execution_count": 26,
   "metadata": {},
   "outputs": [
    {
     "data": {
      "image/png": "[encoded data removed]",
      "text/plain": [
       "<Figure size 432x288 with 1 Axes>"
      ]
     },
     "metadata": {
      "needs_background": "light"
     },
     "output_type": "display_data"
    }
   ],
   "source": [
    "sns.scatterplot(x='Gender',y='Annual_Premium',data=train)\n",
    "plt.show()"
   ]
  },
  {
   "cell_type": "code",
   "execution_count": 27,
   "metadata": {},
   "outputs": [
    {
     "data": {
      "image/png": "[encoded data removed]",
      "text/plain": [
       "<Figure size 864x360 with 1 Axes>"
      ]
     },
     "metadata": {
      "needs_background": "light"
     },
     "output_type": "display_data"
    }
   ],
   "source": [
    "plt.figure(figsize=(12,5))\n",
    "\n",
    "sns.distplot(train['Vintage'])\n",
    "\n",
    "plt.show()"
   ]
  },
  {
   "cell_type": "markdown",
   "metadata": {},
   "source": [
    "* **This Column is uniformly distributed we can't do nothing much to this column**\n",
    "\n"
   ]
  },
  {
   "cell_type": "code",
   "execution_count": 28,
   "metadata": {},
   "outputs": [
    {
     "data": {
      "text/plain": [
       "0    334399\n",
       "1     46710\n",
       "Name: Response, dtype: int64"
      ]
     },
     "execution_count": 28,
     "metadata": {},
     "output_type": "execute_result"
    }
   ],
   "source": [
    "train['Response'].value_counts()"
   ]
  },
  {
   "cell_type": "code",
   "execution_count": 29,
   "metadata": {
    "scrolled": true
   },
   "outputs": [
    {
     "data": {
      "image/png": "[encoded data removed]",
      "text/plain": [
       "<Figure size 864x360 with 2 Axes>"
      ]
     },
     "metadata": {
      "needs_background": "light"
     },
     "output_type": "display_data"
    }
   ],
   "source": [
    "plt.figure(figsize=(12,5))\n",
    "\n",
    "plt.subplot(1,2,1)\n",
    "plt.title('Count of Responses')\n",
    "sns.countplot('Response', data=train, palette='ocean')\n",
    "\n",
    "plt.subplot(1,2,2)\n",
    "plt.pie(train['Response'].value_counts(), explode=[0.05,0] , colors=[ 'lightskyblue', 'orange'] ,autopct='%.1f%%', labels=['No', 'Yes'], labeldistance=1.1)\n",
    "plt.title('Percentage of Response class')\n",
    "\n",
    "plt.show()\n"
   ]
  },
  {
   "cell_type": "markdown",
   "metadata": {},
   "source": [
    "* **From the above graph and percentages we can clearly see that negative response is more than positive response in terms of buying insurance**"
   ]
  },
  {
   "cell_type": "code",
   "execution_count": 30,
   "metadata": {},
   "outputs": [
    {
     "data": {
      "image/png": "[encoded data removed]",
      "text/plain": [
       "<Figure size 360x360 with 1 Axes>"
      ]
     },
     "metadata": {
      "needs_background": "light"
     },
     "output_type": "display_data"
    }
   ],
   "source": [
    "plt.figure(figsize=(5,5))\n",
    "\n",
    "sns.countplot(train['Gender'], hue=train['Response'], palette='Paired')\n",
    "plt.title('Gender with respect to Response')\n",
    "\n",
    "plt.show()\n"
   ]
  },
  {
   "cell_type": "code",
   "execution_count": 31,
   "metadata": {},
   "outputs": [
    {
     "data": {
      "text/plain": [
       "[334399, 28525, 18185]"
      ]
     },
     "execution_count": 31,
     "metadata": {},
     "output_type": "execute_result"
    }
   ],
   "source": [
    "#Splitting Male & Female customers and analysing based on overall customers\n",
    "\n",
    "male = train[train['Gender']=='Male']\n",
    "female = train[train['Gender']=='Female']\n",
    "\n",
    "\n",
    "count_response = []\n",
    "\n",
    "#Count of customers who have not purchased/responded to vehicle insurance\n",
    "count_response.append(train[train['Response'] == 0]['Response'].count())\n",
    "\n",
    "#Count of customers who have purchased/responded to vehicle insurance and those who are Male customers\n",
    "count_response.append(male[male['Response']==1]['Response'].count())\n",
    "\n",
    "#Count of customers who have purchased/responded to vehicle insurance and those who are Female customers\n",
    "count_response.append(female[female['Response']==1]['Response'].count())\n",
    "\n",
    "count_response\n"
   ]
  },
  {
   "cell_type": "code",
   "execution_count": 32,
   "metadata": {
    "scrolled": true
   },
   "outputs": [
    {
     "data": {
      "image/png": "[encoded data removed]",
      "text/plain": [
       "<Figure size 1152x504 with 3 Axes>"
      ]
     },
     "metadata": {},
     "output_type": "display_data"
    }
   ],
   "source": [
    "plt.figure(figsize=(16,7))\n",
    "\n",
    "plt.subplot(1,3,1)\n",
    "plt.pie(male['Response'].value_counts(), explode=[0.025,0] ,autopct='%.1f%%', labels=['No', 'Yes'], labeldistance=1.1)\n",
    "plt.title('Percentage of Males interested')\n",
    "\n",
    "plt.subplot(1,3,2)\n",
    "plt.pie(female['Response'].value_counts(), explode=[0.025,0] ,autopct='%.1f%%', labels=['No', 'Yes'], labeldistance=1.1)\n",
    "plt.title('Percentage of Females interested')\n",
    "\n",
    "plt.subplot(1,3,3)\n",
    "plt.pie(count_response, explode=[0.05,0.05, 0] ,colors=[ 'grey', 'green', 'orange'], autopct='%.1f%%', labels=['No', 'Male_Yes', 'Female_Yes'], labeldistance=1.1)\n",
    "plt.title('Overall Percentage of Males and Females interested')\n",
    "\n",
    "plt.show()\n"
   ]
  },
  {
   "cell_type": "markdown",
   "metadata": {},
   "source": [
    "* **Conclusion -**  From this graph we can clearly see that Male are having positive response towards insurance purchase while female are having negative response.Thus from this we can conclude that the most targeted customers are Male than Female.So, we need to focus on strengthening the Female customers buyers for buying the insurance.\n",
    "\n"
   ]
  },
  {
   "cell_type": "code",
   "execution_count": 33,
   "metadata": {},
   "outputs": [
    {
     "data": {
      "image/png": "[encoded data removed]",
      "text/plain": [
       "<Figure size 864x432 with 2 Axes>"
      ]
     },
     "metadata": {
      "needs_background": "light"
     },
     "output_type": "display_data"
    }
   ],
   "source": [
    "plt.figure(figsize=(12,6))\n",
    "plt.subplots_adjust(wspace=0.5)\n",
    "\n",
    "plt.subplot(1,2,1)\n",
    "sns.histplot(data=train, x='Age', hue='Gender', binwidth=5)\n",
    "plt.title('Count of Male and Female who have responded')\n",
    "\n",
    "plt.subplot(1,2,2)\n",
    "sns.histplot(data=train, x='Age', hue='Gender', binwidth=5)\n",
    "plt.title('Count of Male and Female who have not responded')\n",
    "plt.show()\n"
   ]
  },
  {
   "cell_type": "code",
   "execution_count": 34,
   "metadata": {},
   "outputs": [
    {
     "data": {
      "image/png": "[encoded data removed]",
      "text/plain": [
       "<Figure size 720x720 with 2 Axes>"
      ]
     },
     "metadata": {
      "needs_background": "light"
     },
     "output_type": "display_data"
    }
   ],
   "source": [
    "plt.figure(figsize = (10,10))\n",
    "plt.title(\"Correlation Plot\")\n",
    "sns.heatmap(train.corr(), linewidth = 3, annot = True, square = True,  cmap=\"YlGnBu\")\n",
    "plt.show()"
   ]
  },
  {
   "cell_type": "markdown",
   "metadata": {},
   "source": [
    "###### 4. Data Preprocessing"
   ]
  },
  {
   "cell_type": "code",
   "execution_count": 35,
   "metadata": {},
   "outputs": [
    {
     "data": {
      "text/html": [
       "<div>\n",
       "<style scoped>\n",
       "    .dataframe tbody tr th:only-of-type {\n",
       "        vertical-align: middle;\n",
       "    }\n",
       "\n",
       "    .dataframe tbody tr th {\n",
       "        vertical-align: top;\n",
       "    }\n",
       "\n",
       "    .dataframe thead th {\n",
       "        text-align: right;\n",
       "    }\n",
       "</style>\n",
       "<table border=\"1\" class=\"dataframe\">\n",
       "  <thead>\n",
       "    <tr style=\"text-align: right;\">\n",
       "      <th></th>\n",
       "      <th>id</th>\n",
       "      <th>Gender</th>\n",
       "      <th>Age</th>\n",
       "      <th>Driving_License</th>\n",
       "      <th>Region_Code</th>\n",
       "      <th>Previously_Insured</th>\n",
       "      <th>Vehicle_Age</th>\n",
       "      <th>Vehicle_Damage</th>\n",
       "      <th>Annual_Premium</th>\n",
       "      <th>Policy_Sales_Channel</th>\n",
       "      <th>Vintage</th>\n",
       "      <th>Response</th>\n",
       "    </tr>\n",
       "  </thead>\n",
       "  <tbody>\n",
       "    <tr>\n",
       "      <th>0</th>\n",
       "      <td>1</td>\n",
       "      <td>Male</td>\n",
       "      <td>44</td>\n",
       "      <td>1</td>\n",
       "      <td>28.0</td>\n",
       "      <td>0</td>\n",
       "      <td>&gt; 2 Years</td>\n",
       "      <td>Yes</td>\n",
       "      <td>40454.0</td>\n",
       "      <td>26.0</td>\n",
       "      <td>217</td>\n",
       "      <td>1</td>\n",
       "    </tr>\n",
       "    <tr>\n",
       "      <th>1</th>\n",
       "      <td>2</td>\n",
       "      <td>Male</td>\n",
       "      <td>76</td>\n",
       "      <td>1</td>\n",
       "      <td>3.0</td>\n",
       "      <td>0</td>\n",
       "      <td>1-2 Year</td>\n",
       "      <td>No</td>\n",
       "      <td>33536.0</td>\n",
       "      <td>26.0</td>\n",
       "      <td>183</td>\n",
       "      <td>0</td>\n",
       "    </tr>\n",
       "    <tr>\n",
       "      <th>2</th>\n",
       "      <td>3</td>\n",
       "      <td>Male</td>\n",
       "      <td>47</td>\n",
       "      <td>1</td>\n",
       "      <td>28.0</td>\n",
       "      <td>0</td>\n",
       "      <td>&gt; 2 Years</td>\n",
       "      <td>Yes</td>\n",
       "      <td>38294.0</td>\n",
       "      <td>26.0</td>\n",
       "      <td>27</td>\n",
       "      <td>1</td>\n",
       "    </tr>\n",
       "    <tr>\n",
       "      <th>3</th>\n",
       "      <td>4</td>\n",
       "      <td>Male</td>\n",
       "      <td>21</td>\n",
       "      <td>1</td>\n",
       "      <td>11.0</td>\n",
       "      <td>1</td>\n",
       "      <td>&lt; 1 Year</td>\n",
       "      <td>No</td>\n",
       "      <td>28619.0</td>\n",
       "      <td>152.0</td>\n",
       "      <td>203</td>\n",
       "      <td>0</td>\n",
       "    </tr>\n",
       "    <tr>\n",
       "      <th>4</th>\n",
       "      <td>5</td>\n",
       "      <td>Female</td>\n",
       "      <td>29</td>\n",
       "      <td>1</td>\n",
       "      <td>41.0</td>\n",
       "      <td>1</td>\n",
       "      <td>&lt; 1 Year</td>\n",
       "      <td>No</td>\n",
       "      <td>27496.0</td>\n",
       "      <td>152.0</td>\n",
       "      <td>39</td>\n",
       "      <td>0</td>\n",
       "    </tr>\n",
       "  </tbody>\n",
       "</table>\n",
       "</div>"
      ],
      "text/plain": [
       "   id  Gender  Age  Driving_License  Region_Code  Previously_Insured  \\\n",
       "0   1    Male   44                1         28.0                   0   \n",
       "1   2    Male   76                1          3.0                   0   \n",
       "2   3    Male   47                1         28.0                   0   \n",
       "3   4    Male   21                1         11.0                   1   \n",
       "4   5  Female   29                1         41.0                   1   \n",
       "\n",
       "  Vehicle_Age Vehicle_Damage  Annual_Premium  Policy_Sales_Channel  Vintage  \\\n",
       "0   > 2 Years            Yes         40454.0                  26.0      217   \n",
       "1    1-2 Year             No         33536.0                  26.0      183   \n",
       "2   > 2 Years            Yes         38294.0                  26.0       27   \n",
       "3    < 1 Year             No         28619.0                 152.0      203   \n",
       "4    < 1 Year             No         27496.0                 152.0       39   \n",
       "\n",
       "   Response  \n",
       "0         1  \n",
       "1         0  \n",
       "2         1  \n",
       "3         0  \n",
       "4         0  "
      ]
     },
     "execution_count": 35,
     "metadata": {},
     "output_type": "execute_result"
    }
   ],
   "source": [
    "train.head()"
   ]
  },
  {
   "cell_type": "code",
   "execution_count": 36,
   "metadata": {},
   "outputs": [
    {
     "data": {
      "text/plain": [
       "array(['> 2 Years', '1-2 Year', '< 1 Year'], dtype=object)"
      ]
     },
     "execution_count": 36,
     "metadata": {},
     "output_type": "execute_result"
    }
   ],
   "source": [
    "train['Vehicle_Age'].unique()"
   ]
  },
  {
   "cell_type": "code",
   "execution_count": 37,
   "metadata": {},
   "outputs": [
    {
     "data": {
      "text/plain": [
       "array([ 26., 152., 160., 124.,  14.,  13.,  30., 156., 163., 157., 122.,\n",
       "        19.,  22.,  15., 154.,  16.,  52., 155.,  11., 151., 125.,  25.,\n",
       "        61.,   1.,  86.,  31., 150.,  23.,  60.,  21., 121.,   3., 139.,\n",
       "        12.,  29.,  55.,   7.,  47., 127., 153.,  78., 158.,  89.,  32.,\n",
       "         8.,  10., 120.,  65.,   4.,  42.,  83., 136.,  24.,  18.,  56.,\n",
       "        48., 106.,  54.,  93., 116.,  91.,  45.,   9., 145., 147.,  44.,\n",
       "       109.,  37., 140., 107., 128., 131., 114., 118., 159., 119., 105.,\n",
       "       135.,  62., 138., 129.,  88.,  92., 111., 113.,  73.,  36.,  28.,\n",
       "        35.,  59.,  53., 148., 133., 108.,  64.,  39.,  94., 132.,  46.,\n",
       "        81., 103.,  90.,  51.,  27., 146.,  63.,  96.,  40.,  66., 100.,\n",
       "        95., 123.,  98.,  75.,  69., 130., 134.,  49.,  97.,  38.,  17.,\n",
       "       110.,  80.,  71., 117.,  58.,  20.,  76., 104.,  87.,  84., 137.,\n",
       "       126.,  68.,  67., 101., 115.,  57.,  82.,  79., 112.,  99.,  70.,\n",
       "         2.,  34.,  33.,  74., 102., 149.,  43.,   6.,  50., 144., 143.,\n",
       "        41.])"
      ]
     },
     "execution_count": 37,
     "metadata": {},
     "output_type": "execute_result"
    }
   ],
   "source": [
    "train['Policy_Sales_Channel'].unique()"
   ]
  },
  {
   "cell_type": "code",
   "execution_count": 38,
   "metadata": {},
   "outputs": [],
   "source": [
    "\n",
    "from sklearn.preprocessing import LabelEncoder\n",
    "col = ['Gender', 'Vehicle_Age','Vehicle_Damage']\n",
    "le = LabelEncoder()\n",
    "for LE in col:\n",
    "    train[LE] = le.fit_transform(train[LE])\n"
   ]
  },
  {
   "cell_type": "code",
   "execution_count": 39,
   "metadata": {},
   "outputs": [],
   "source": [
    "\n",
    "from sklearn.preprocessing import LabelEncoder\n",
    "col = ['Gender', 'Vehicle_Age','Vehicle_Damage']\n",
    "le = LabelEncoder()\n",
    "for LE in col:\n",
    "    test[LE] = le.fit_transform(test[LE])\n"
   ]
  },
  {
   "cell_type": "code",
   "execution_count": 40,
   "metadata": {},
   "outputs": [
    {
     "data": {
      "text/html": [
       "<div>\n",
       "<style scoped>\n",
       "    .dataframe tbody tr th:only-of-type {\n",
       "        vertical-align: middle;\n",
       "    }\n",
       "\n",
       "    .dataframe tbody tr th {\n",
       "        vertical-align: top;\n",
       "    }\n",
       "\n",
       "    .dataframe thead th {\n",
       "        text-align: right;\n",
       "    }\n",
       "</style>\n",
       "<table border=\"1\" class=\"dataframe\">\n",
       "  <thead>\n",
       "    <tr style=\"text-align: right;\">\n",
       "      <th></th>\n",
       "      <th>id</th>\n",
       "      <th>Gender</th>\n",
       "      <th>Age</th>\n",
       "      <th>Driving_License</th>\n",
       "      <th>Region_Code</th>\n",
       "      <th>Previously_Insured</th>\n",
       "      <th>Vehicle_Age</th>\n",
       "      <th>Vehicle_Damage</th>\n",
       "      <th>Annual_Premium</th>\n",
       "      <th>Policy_Sales_Channel</th>\n",
       "      <th>Vintage</th>\n",
       "      <th>Response</th>\n",
       "    </tr>\n",
       "  </thead>\n",
       "  <tbody>\n",
       "    <tr>\n",
       "      <th>0</th>\n",
       "      <td>1</td>\n",
       "      <td>1</td>\n",
       "      <td>44</td>\n",
       "      <td>1</td>\n",
       "      <td>28.0</td>\n",
       "      <td>0</td>\n",
       "      <td>2</td>\n",
       "      <td>1</td>\n",
       "      <td>40454.0</td>\n",
       "      <td>26.0</td>\n",
       "      <td>217</td>\n",
       "      <td>1</td>\n",
       "    </tr>\n",
       "    <tr>\n",
       "      <th>1</th>\n",
       "      <td>2</td>\n",
       "      <td>1</td>\n",
       "      <td>76</td>\n",
       "      <td>1</td>\n",
       "      <td>3.0</td>\n",
       "      <td>0</td>\n",
       "      <td>0</td>\n",
       "      <td>0</td>\n",
       "      <td>33536.0</td>\n",
       "      <td>26.0</td>\n",
       "      <td>183</td>\n",
       "      <td>0</td>\n",
       "    </tr>\n",
       "    <tr>\n",
       "      <th>2</th>\n",
       "      <td>3</td>\n",
       "      <td>1</td>\n",
       "      <td>47</td>\n",
       "      <td>1</td>\n",
       "      <td>28.0</td>\n",
       "      <td>0</td>\n",
       "      <td>2</td>\n",
       "      <td>1</td>\n",
       "      <td>38294.0</td>\n",
       "      <td>26.0</td>\n",
       "      <td>27</td>\n",
       "      <td>1</td>\n",
       "    </tr>\n",
       "    <tr>\n",
       "      <th>3</th>\n",
       "      <td>4</td>\n",
       "      <td>1</td>\n",
       "      <td>21</td>\n",
       "      <td>1</td>\n",
       "      <td>11.0</td>\n",
       "      <td>1</td>\n",
       "      <td>1</td>\n",
       "      <td>0</td>\n",
       "      <td>28619.0</td>\n",
       "      <td>152.0</td>\n",
       "      <td>203</td>\n",
       "      <td>0</td>\n",
       "    </tr>\n",
       "    <tr>\n",
       "      <th>4</th>\n",
       "      <td>5</td>\n",
       "      <td>0</td>\n",
       "      <td>29</td>\n",
       "      <td>1</td>\n",
       "      <td>41.0</td>\n",
       "      <td>1</td>\n",
       "      <td>1</td>\n",
       "      <td>0</td>\n",
       "      <td>27496.0</td>\n",
       "      <td>152.0</td>\n",
       "      <td>39</td>\n",
       "      <td>0</td>\n",
       "    </tr>\n",
       "  </tbody>\n",
       "</table>\n",
       "</div>"
      ],
      "text/plain": [
       "   id  Gender  Age  Driving_License  Region_Code  Previously_Insured  \\\n",
       "0   1       1   44                1         28.0                   0   \n",
       "1   2       1   76                1          3.0                   0   \n",
       "2   3       1   47                1         28.0                   0   \n",
       "3   4       1   21                1         11.0                   1   \n",
       "4   5       0   29                1         41.0                   1   \n",
       "\n",
       "   Vehicle_Age  Vehicle_Damage  Annual_Premium  Policy_Sales_Channel  Vintage  \\\n",
       "0            2               1         40454.0                  26.0      217   \n",
       "1            0               0         33536.0                  26.0      183   \n",
       "2            2               1         38294.0                  26.0       27   \n",
       "3            1               0         28619.0                 152.0      203   \n",
       "4            1               0         27496.0                 152.0       39   \n",
       "\n",
       "   Response  \n",
       "0         1  \n",
       "1         0  \n",
       "2         1  \n",
       "3         0  \n",
       "4         0  "
      ]
     },
     "execution_count": 40,
     "metadata": {},
     "output_type": "execute_result"
    }
   ],
   "source": [
    "train.head()"
   ]
  },
  {
   "cell_type": "code",
   "execution_count": 41,
   "metadata": {},
   "outputs": [
    {
     "data": {
      "text/html": [
       "<div>\n",
       "<style scoped>\n",
       "    .dataframe tbody tr th:only-of-type {\n",
       "        vertical-align: middle;\n",
       "    }\n",
       "\n",
       "    .dataframe tbody tr th {\n",
       "        vertical-align: top;\n",
       "    }\n",
       "\n",
       "    .dataframe thead th {\n",
       "        text-align: right;\n",
       "    }\n",
       "</style>\n",
       "<table border=\"1\" class=\"dataframe\">\n",
       "  <thead>\n",
       "    <tr style=\"text-align: right;\">\n",
       "      <th></th>\n",
       "      <th>id</th>\n",
       "      <th>Gender</th>\n",
       "      <th>Age</th>\n",
       "      <th>Driving_License</th>\n",
       "      <th>Region_Code</th>\n",
       "      <th>Previously_Insured</th>\n",
       "      <th>Vehicle_Age</th>\n",
       "      <th>Vehicle_Damage</th>\n",
       "      <th>Annual_Premium</th>\n",
       "      <th>Policy_Sales_Channel</th>\n",
       "      <th>Vintage</th>\n",
       "    </tr>\n",
       "  </thead>\n",
       "  <tbody>\n",
       "    <tr>\n",
       "      <th>0</th>\n",
       "      <td>381110</td>\n",
       "      <td>1</td>\n",
       "      <td>25</td>\n",
       "      <td>1</td>\n",
       "      <td>11.0</td>\n",
       "      <td>1</td>\n",
       "      <td>1</td>\n",
       "      <td>0</td>\n",
       "      <td>35786.0</td>\n",
       "      <td>152.0</td>\n",
       "      <td>53</td>\n",
       "    </tr>\n",
       "    <tr>\n",
       "      <th>1</th>\n",
       "      <td>381111</td>\n",
       "      <td>1</td>\n",
       "      <td>40</td>\n",
       "      <td>1</td>\n",
       "      <td>28.0</td>\n",
       "      <td>0</td>\n",
       "      <td>0</td>\n",
       "      <td>1</td>\n",
       "      <td>33762.0</td>\n",
       "      <td>7.0</td>\n",
       "      <td>111</td>\n",
       "    </tr>\n",
       "    <tr>\n",
       "      <th>2</th>\n",
       "      <td>381112</td>\n",
       "      <td>1</td>\n",
       "      <td>47</td>\n",
       "      <td>1</td>\n",
       "      <td>28.0</td>\n",
       "      <td>0</td>\n",
       "      <td>0</td>\n",
       "      <td>1</td>\n",
       "      <td>40050.0</td>\n",
       "      <td>124.0</td>\n",
       "      <td>199</td>\n",
       "    </tr>\n",
       "    <tr>\n",
       "      <th>3</th>\n",
       "      <td>381113</td>\n",
       "      <td>1</td>\n",
       "      <td>24</td>\n",
       "      <td>1</td>\n",
       "      <td>27.0</td>\n",
       "      <td>1</td>\n",
       "      <td>1</td>\n",
       "      <td>1</td>\n",
       "      <td>37356.0</td>\n",
       "      <td>152.0</td>\n",
       "      <td>187</td>\n",
       "    </tr>\n",
       "    <tr>\n",
       "      <th>4</th>\n",
       "      <td>381114</td>\n",
       "      <td>1</td>\n",
       "      <td>27</td>\n",
       "      <td>1</td>\n",
       "      <td>28.0</td>\n",
       "      <td>1</td>\n",
       "      <td>1</td>\n",
       "      <td>0</td>\n",
       "      <td>59097.0</td>\n",
       "      <td>152.0</td>\n",
       "      <td>297</td>\n",
       "    </tr>\n",
       "  </tbody>\n",
       "</table>\n",
       "</div>"
      ],
      "text/plain": [
       "       id  Gender  Age  Driving_License  Region_Code  Previously_Insured  \\\n",
       "0  381110       1   25                1         11.0                   1   \n",
       "1  381111       1   40                1         28.0                   0   \n",
       "2  381112       1   47                1         28.0                   0   \n",
       "3  381113       1   24                1         27.0                   1   \n",
       "4  381114       1   27                1         28.0                   1   \n",
       "\n",
       "   Vehicle_Age  Vehicle_Damage  Annual_Premium  Policy_Sales_Channel  Vintage  \n",
       "0            1               0         35786.0                 152.0       53  \n",
       "1            0               1         33762.0                   7.0      111  \n",
       "2            0               1         40050.0                 124.0      199  \n",
       "3            1               1         37356.0                 152.0      187  \n",
       "4            1               0         59097.0                 152.0      297  "
      ]
     },
     "execution_count": 41,
     "metadata": {},
     "output_type": "execute_result"
    }
   ],
   "source": [
    "test.head()"
   ]
  },
  {
   "cell_type": "markdown",
   "metadata": {},
   "source": [
    "###### 5. Data Scaling & Data Splitting"
   ]
  },
  {
   "cell_type": "code",
   "execution_count": 42,
   "metadata": {},
   "outputs": [
    {
     "data": {
      "text/html": [
       "<div>\n",
       "<style scoped>\n",
       "    .dataframe tbody tr th:only-of-type {\n",
       "        vertical-align: middle;\n",
       "    }\n",
       "\n",
       "    .dataframe tbody tr th {\n",
       "        vertical-align: top;\n",
       "    }\n",
       "\n",
       "    .dataframe thead th {\n",
       "        text-align: right;\n",
       "    }\n",
       "</style>\n",
       "<table border=\"1\" class=\"dataframe\">\n",
       "  <thead>\n",
       "    <tr style=\"text-align: right;\">\n",
       "      <th></th>\n",
       "      <th>id</th>\n",
       "      <th>Gender</th>\n",
       "      <th>Age</th>\n",
       "      <th>Driving_License</th>\n",
       "      <th>Region_Code</th>\n",
       "      <th>Previously_Insured</th>\n",
       "      <th>Vehicle_Age</th>\n",
       "      <th>Vehicle_Damage</th>\n",
       "      <th>Annual_Premium</th>\n",
       "      <th>Policy_Sales_Channel</th>\n",
       "      <th>Vintage</th>\n",
       "    </tr>\n",
       "  </thead>\n",
       "  <tbody>\n",
       "    <tr>\n",
       "      <th>0</th>\n",
       "      <td>1</td>\n",
       "      <td>1</td>\n",
       "      <td>44</td>\n",
       "      <td>1</td>\n",
       "      <td>28.0</td>\n",
       "      <td>0</td>\n",
       "      <td>2</td>\n",
       "      <td>1</td>\n",
       "      <td>40454.0</td>\n",
       "      <td>26.0</td>\n",
       "      <td>217</td>\n",
       "    </tr>\n",
       "    <tr>\n",
       "      <th>1</th>\n",
       "      <td>2</td>\n",
       "      <td>1</td>\n",
       "      <td>76</td>\n",
       "      <td>1</td>\n",
       "      <td>3.0</td>\n",
       "      <td>0</td>\n",
       "      <td>0</td>\n",
       "      <td>0</td>\n",
       "      <td>33536.0</td>\n",
       "      <td>26.0</td>\n",
       "      <td>183</td>\n",
       "    </tr>\n",
       "    <tr>\n",
       "      <th>2</th>\n",
       "      <td>3</td>\n",
       "      <td>1</td>\n",
       "      <td>47</td>\n",
       "      <td>1</td>\n",
       "      <td>28.0</td>\n",
       "      <td>0</td>\n",
       "      <td>2</td>\n",
       "      <td>1</td>\n",
       "      <td>38294.0</td>\n",
       "      <td>26.0</td>\n",
       "      <td>27</td>\n",
       "    </tr>\n",
       "    <tr>\n",
       "      <th>3</th>\n",
       "      <td>4</td>\n",
       "      <td>1</td>\n",
       "      <td>21</td>\n",
       "      <td>1</td>\n",
       "      <td>11.0</td>\n",
       "      <td>1</td>\n",
       "      <td>1</td>\n",
       "      <td>0</td>\n",
       "      <td>28619.0</td>\n",
       "      <td>152.0</td>\n",
       "      <td>203</td>\n",
       "    </tr>\n",
       "    <tr>\n",
       "      <th>4</th>\n",
       "      <td>5</td>\n",
       "      <td>0</td>\n",
       "      <td>29</td>\n",
       "      <td>1</td>\n",
       "      <td>41.0</td>\n",
       "      <td>1</td>\n",
       "      <td>1</td>\n",
       "      <td>0</td>\n",
       "      <td>27496.0</td>\n",
       "      <td>152.0</td>\n",
       "      <td>39</td>\n",
       "    </tr>\n",
       "  </tbody>\n",
       "</table>\n",
       "</div>"
      ],
      "text/plain": [
       "   id  Gender  Age  Driving_License  Region_Code  Previously_Insured  \\\n",
       "0   1       1   44                1         28.0                   0   \n",
       "1   2       1   76                1          3.0                   0   \n",
       "2   3       1   47                1         28.0                   0   \n",
       "3   4       1   21                1         11.0                   1   \n",
       "4   5       0   29                1         41.0                   1   \n",
       "\n",
       "   Vehicle_Age  Vehicle_Damage  Annual_Premium  Policy_Sales_Channel  Vintage  \n",
       "0            2               1         40454.0                  26.0      217  \n",
       "1            0               0         33536.0                  26.0      183  \n",
       "2            2               1         38294.0                  26.0       27  \n",
       "3            1               0         28619.0                 152.0      203  \n",
       "4            1               0         27496.0                 152.0       39  "
      ]
     },
     "execution_count": 42,
     "metadata": {},
     "output_type": "execute_result"
    }
   ],
   "source": [
    "#dependent and independent variables\n",
    "\n",
    "X=train.drop(['Response'],axis=1)      #independent variable\n",
    "\n",
    "y=train['Response']                    #dependent variable\n",
    "\n",
    "X.head()"
   ]
  },
  {
   "cell_type": "code",
   "execution_count": 43,
   "metadata": {},
   "outputs": [
    {
     "data": {
      "text/plain": [
       "array([1, 0], dtype=int64)"
      ]
     },
     "execution_count": 43,
     "metadata": {},
     "output_type": "execute_result"
    }
   ],
   "source": [
    "train['Response'].unique()"
   ]
  },
  {
   "cell_type": "code",
   "execution_count": 44,
   "metadata": {},
   "outputs": [
    {
     "data": {
      "text/plain": [
       "0    334399\n",
       "1     46710\n",
       "Name: Response, dtype: int64"
      ]
     },
     "execution_count": 44,
     "metadata": {},
     "output_type": "execute_result"
    }
   ],
   "source": [
    "train['Response'].value_counts()"
   ]
  },
  {
   "cell_type": "code",
   "execution_count": 45,
   "metadata": {},
   "outputs": [
    {
     "data": {
      "image/png": "[encoded data removed]",
      "text/plain": [
       "<Figure size 432x288 with 1 Axes>"
      ]
     },
     "metadata": {
      "needs_background": "light"
     },
     "output_type": "display_data"
    }
   ],
   "source": [
    "(train['Response'].value_counts(normalize= True)*100).plot(kind='bar')\n",
    "plt.show()\n"
   ]
  },
  {
   "cell_type": "markdown",
   "metadata": {},
   "source": [
    "* We can see that data is imbalanced with approx 85% of zero class and 15% of the other class.\n",
    "\n",
    "* If such data is fed to the model as input, the classifier may make it biased w.r.t majority class as it was not provided with enough data of minority class to learn.\n",
    "\n",
    "* So, to deal with this situation, we will apply one of the sampling techniques i.e SMOTE(Synthetic Minority Over-Sampling Technique) and check the results with imbalanced data.\n",
    "\n"
   ]
  },
  {
   "cell_type": "code",
   "execution_count": 46,
   "metadata": {},
   "outputs": [],
   "source": [
    "from imblearn.over_sampling import SMOTE\n",
    "oversample = SMOTE()\n",
    "X_smo, y_smo = oversample.fit_sample(X, y)\n"
   ]
  },
  {
   "cell_type": "code",
   "execution_count": 47,
   "metadata": {},
   "outputs": [
    {
     "data": {
      "image/png": "[encoded data removed]",
      "text/plain": [
       "<Figure size 432x288 with 1 Axes>"
      ]
     },
     "metadata": {
      "needs_background": "light"
     },
     "output_type": "display_data"
    }
   ],
   "source": [
    "sns.countplot(y_smo)\n",
    "plt.show()"
   ]
  },
  {
   "cell_type": "code",
   "execution_count": 48,
   "metadata": {},
   "outputs": [
    {
     "data": {
      "text/plain": [
       "1    334399\n",
       "0    334399\n",
       "Name: Response, dtype: int64"
      ]
     },
     "execution_count": 48,
     "metadata": {},
     "output_type": "execute_result"
    }
   ],
   "source": [
    "y_smo.value_counts()"
   ]
  },
  {
   "cell_type": "code",
   "execution_count": 49,
   "metadata": {},
   "outputs": [],
   "source": [
    "#Scaling the independent variable to bring data in one range \n",
    "\n",
    "from sklearn.preprocessing import StandardScaler\n",
    "SS=StandardScaler()"
   ]
  },
  {
   "cell_type": "code",
   "execution_count": 50,
   "metadata": {},
   "outputs": [
    {
     "data": {
      "text/plain": [
       "array([[-1.73210913,  1.06656833,  0.25159035, ...,  0.53216437,\n",
       "        -1.48985042,  0.80992867],\n",
       "       [-1.73210003,  1.06656833,  2.60801872, ...,  0.14234055,\n",
       "        -1.48985042,  0.37304963],\n",
       "       [-1.73209094,  1.06656833,  0.47250551, ...,  0.41045008,\n",
       "        -1.48985042, -1.63145419],\n",
       "       ...,\n",
       "       [-0.56391714, -0.93758644,  0.39886713, ..., -0.35706375,\n",
       "        -0.01782893,  0.96412127],\n",
       "       [ 0.91818603, -0.93758644,  0.76705906, ...,  0.50503757,\n",
       "        -1.48338942, -0.19232324],\n",
       "       [ 1.17615111, -0.93758644,  0.47250551, ..., -1.59918805,\n",
       "         0.45928646,  1.05406696]])"
      ]
     },
     "execution_count": 50,
     "metadata": {},
     "output_type": "execute_result"
    }
   ],
   "source": [
    "X1=SS.fit_transform(X_smo)\n",
    "X1"
   ]
  },
  {
   "cell_type": "code",
   "execution_count": 51,
   "metadata": {},
   "outputs": [],
   "source": [
    "#Sacling Of Test DataSet\n",
    "\n",
    "X2 = SS.fit_transform(test)\n"
   ]
  },
  {
   "cell_type": "code",
   "execution_count": 52,
   "metadata": {},
   "outputs": [],
   "source": [
    "#splitting the data into train(75%) and test(25%) for model\n",
    "\n",
    "from sklearn.model_selection import train_test_split\n",
    "X_train,X_test,y_train,y_test=train_test_split(X1,y_smo, test_size=0.25, random_state=1, stratify=y_smo)"
   ]
  },
  {
   "cell_type": "markdown",
   "metadata": {},
   "source": [
    "#### 6. Machine Learning Model"
   ]
  },
  {
   "cell_type": "markdown",
   "metadata": {},
   "source": [
    "* Machine Learning Libraries"
   ]
  },
  {
   "cell_type": "code",
   "execution_count": 53,
   "metadata": {},
   "outputs": [],
   "source": [
    "from sklearn.tree import DecisionTreeClassifier\n",
    "from sklearn.linear_model import SGDClassifier\n",
    "from sklearn.ensemble import RandomForestClassifier\n",
    "from sklearn.ensemble import GradientBoostingClassifier\n",
    "from sklearn.neighbors import KNeighborsClassifier\n",
    "from sklearn.ensemble import AdaBoostClassifier\n",
    "from sklearn.ensemble import BaggingClassifier\n",
    "from sklearn.linear_model import LogisticRegression\n",
    "\n",
    "from sklearn.metrics import f1_score, recall_score, accuracy_score, roc_auc_score, precision_score, auc, roc_curve,classification_report,confusion_matrix\n"
   ]
  },
  {
   "cell_type": "code",
   "execution_count": 54,
   "metadata": {},
   "outputs": [],
   "source": [
    "model = {\n",
    "    \"DecisionTree Classifier\": DecisionTreeClassifier(), \n",
    "    \"SGD Classifier\" : SGDClassifier(), \n",
    "    \"RandomForest Classifier\" : RandomForestClassifier(), \n",
    "    \"Gradient Boosting\" : GradientBoostingClassifier(),\n",
    "    \"KNeighbor Classifier\" : KNeighborsClassifier(n_neighbors=3),\n",
    "    \"AdaBoost Classifier\" : AdaBoostClassifier(random_state=0),\n",
    "    \"Bagging Classifier\" : BaggingClassifier(random_state=0),\n",
    "    \"Logistic Regressor\" : LogisticRegression(max_iter=15000, random_state=0)\n",
    "\n",
    "        }\n"
   ]
  },
  {
   "cell_type": "code",
   "execution_count": 55,
   "metadata": {},
   "outputs": [],
   "source": [
    "scores = []\n",
    "prob_score = {}\n",
    "for mod in model:\n",
    "    classifier = model[mod]\n",
    "    classifier.fit(X_train, y_train)\n",
    "    pred = classifier.predict(X_test)\n",
    "    try:\n",
    "        score = classifier.predict_proba(X_test)[:,1]\n",
    "        roc = roc_auc_score(y_test, score, average='weighted')\n",
    "        prob_score[mod] = score\n",
    "    except:\n",
    "        roc = 0\n",
    "    scores.append([\n",
    "        mod,\n",
    "        accuracy_score(y_test, pred),\n",
    "        f1_score(y_test, pred, average='weighted'),\n",
    "        precision_score(y_test, pred, average='weighted'),\n",
    "        recall_score(y_test, pred, average='weighted'),\n",
    "        roc\n",
    "    ])\n"
   ]
  },
  {
   "cell_type": "code",
   "execution_count": 56,
   "metadata": {},
   "outputs": [
    {
     "data": {
      "text/html": [
       "<style  type=\"text/css\" >\n",
       "#T_417f505b_07e6_11ec_91ec_107d1a1d950drow2_col4,#T_417f505b_07e6_11ec_91ec_107d1a1d950drow6_col0,#T_417f505b_07e6_11ec_91ec_107d1a1d950drow6_col1,#T_417f505b_07e6_11ec_91ec_107d1a1d950drow6_col2,#T_417f505b_07e6_11ec_91ec_107d1a1d950drow6_col3{\n",
       "            background-color:  yellow;\n",
       "        }</style><table id=\"T_417f505b_07e6_11ec_91ec_107d1a1d950d\" ><thead>    <tr>        <th class=\"blank level0\" ></th>        <th class=\"col_heading level0 col0\" >Accuracy</th>        <th class=\"col_heading level0 col1\" >F1 Score</th>        <th class=\"col_heading level0 col2\" >Precision</th>        <th class=\"col_heading level0 col3\" >Recall</th>        <th class=\"col_heading level0 col4\" >ROC AUC</th>    </tr></thead><tbody>\n",
       "                <tr>\n",
       "                        <th id=\"T_417f505b_07e6_11ec_91ec_107d1a1d950dlevel0_row0\" class=\"row_heading level0 row0\" >DecisionTree Classifier</th>\n",
       "                        <td id=\"T_417f505b_07e6_11ec_91ec_107d1a1d950drow0_col0\" class=\"data row0 col0\" >0.880281</td>\n",
       "                        <td id=\"T_417f505b_07e6_11ec_91ec_107d1a1d950drow0_col1\" class=\"data row0 col1\" >0.880278</td>\n",
       "                        <td id=\"T_417f505b_07e6_11ec_91ec_107d1a1d950drow0_col2\" class=\"data row0 col2\" >0.880325</td>\n",
       "                        <td id=\"T_417f505b_07e6_11ec_91ec_107d1a1d950drow0_col3\" class=\"data row0 col3\" >0.880281</td>\n",
       "                        <td id=\"T_417f505b_07e6_11ec_91ec_107d1a1d950drow0_col4\" class=\"data row0 col4\" >0.880281</td>\n",
       "            </tr>\n",
       "            <tr>\n",
       "                        <th id=\"T_417f505b_07e6_11ec_91ec_107d1a1d950dlevel0_row1\" class=\"row_heading level0 row1\" >SGD Classifier</th>\n",
       "                        <td id=\"T_417f505b_07e6_11ec_91ec_107d1a1d950drow1_col0\" class=\"data row1 col0\" >0.778714</td>\n",
       "                        <td id=\"T_417f505b_07e6_11ec_91ec_107d1a1d950drow1_col1\" class=\"data row1 col1\" >0.773125</td>\n",
       "                        <td id=\"T_417f505b_07e6_11ec_91ec_107d1a1d950drow1_col2\" class=\"data row1 col2\" >0.809181</td>\n",
       "                        <td id=\"T_417f505b_07e6_11ec_91ec_107d1a1d950drow1_col3\" class=\"data row1 col3\" >0.778714</td>\n",
       "                        <td id=\"T_417f505b_07e6_11ec_91ec_107d1a1d950drow1_col4\" class=\"data row1 col4\" >0.000000</td>\n",
       "            </tr>\n",
       "            <tr>\n",
       "                        <th id=\"T_417f505b_07e6_11ec_91ec_107d1a1d950dlevel0_row2\" class=\"row_heading level0 row2\" >RandomForest Classifier</th>\n",
       "                        <td id=\"T_417f505b_07e6_11ec_91ec_107d1a1d950drow2_col0\" class=\"data row2 col0\" >0.897446</td>\n",
       "                        <td id=\"T_417f505b_07e6_11ec_91ec_107d1a1d950drow2_col1\" class=\"data row2 col1\" >0.897446</td>\n",
       "                        <td id=\"T_417f505b_07e6_11ec_91ec_107d1a1d950drow2_col2\" class=\"data row2 col2\" >0.897452</td>\n",
       "                        <td id=\"T_417f505b_07e6_11ec_91ec_107d1a1d950drow2_col3\" class=\"data row2 col3\" >0.897446</td>\n",
       "                        <td id=\"T_417f505b_07e6_11ec_91ec_107d1a1d950drow2_col4\" class=\"data row2 col4\" >0.970745</td>\n",
       "            </tr>\n",
       "            <tr>\n",
       "                        <th id=\"T_417f505b_07e6_11ec_91ec_107d1a1d950dlevel0_row3\" class=\"row_heading level0 row3\" >Gradient Boosting</th>\n",
       "                        <td id=\"T_417f505b_07e6_11ec_91ec_107d1a1d950drow3_col0\" class=\"data row3 col0\" >0.867099</td>\n",
       "                        <td id=\"T_417f505b_07e6_11ec_91ec_107d1a1d950drow3_col1\" class=\"data row3 col1\" >0.866853</td>\n",
       "                        <td id=\"T_417f505b_07e6_11ec_91ec_107d1a1d950drow3_col2\" class=\"data row3 col2\" >0.869840</td>\n",
       "                        <td id=\"T_417f505b_07e6_11ec_91ec_107d1a1d950drow3_col3\" class=\"data row3 col3\" >0.867099</td>\n",
       "                        <td id=\"T_417f505b_07e6_11ec_91ec_107d1a1d950drow3_col4\" class=\"data row3 col4\" >0.954703</td>\n",
       "            </tr>\n",
       "            <tr>\n",
       "                        <th id=\"T_417f505b_07e6_11ec_91ec_107d1a1d950dlevel0_row4\" class=\"row_heading level0 row4\" >KNeighbor Classifier</th>\n",
       "                        <td id=\"T_417f505b_07e6_11ec_91ec_107d1a1d950drow4_col0\" class=\"data row4 col0\" >0.846932</td>\n",
       "                        <td id=\"T_417f505b_07e6_11ec_91ec_107d1a1d950drow4_col1\" class=\"data row4 col1\" >0.846773</td>\n",
       "                        <td id=\"T_417f505b_07e6_11ec_91ec_107d1a1d950drow4_col2\" class=\"data row4 col2\" >0.848375</td>\n",
       "                        <td id=\"T_417f505b_07e6_11ec_91ec_107d1a1d950drow4_col3\" class=\"data row4 col3\" >0.846932</td>\n",
       "                        <td id=\"T_417f505b_07e6_11ec_91ec_107d1a1d950drow4_col4\" class=\"data row4 col4\" >0.904950</td>\n",
       "            </tr>\n",
       "            <tr>\n",
       "                        <th id=\"T_417f505b_07e6_11ec_91ec_107d1a1d950dlevel0_row5\" class=\"row_heading level0 row5\" >AdaBoost Classifier</th>\n",
       "                        <td id=\"T_417f505b_07e6_11ec_91ec_107d1a1d950drow5_col0\" class=\"data row5 col0\" >0.851854</td>\n",
       "                        <td id=\"T_417f505b_07e6_11ec_91ec_107d1a1d950drow5_col1\" class=\"data row5 col1\" >0.851468</td>\n",
       "                        <td id=\"T_417f505b_07e6_11ec_91ec_107d1a1d950drow5_col2\" class=\"data row5 col2\" >0.855552</td>\n",
       "                        <td id=\"T_417f505b_07e6_11ec_91ec_107d1a1d950drow5_col3\" class=\"data row5 col3\" >0.851854</td>\n",
       "                        <td id=\"T_417f505b_07e6_11ec_91ec_107d1a1d950drow5_col4\" class=\"data row5 col4\" >0.942297</td>\n",
       "            </tr>\n",
       "            <tr>\n",
       "                        <th id=\"T_417f505b_07e6_11ec_91ec_107d1a1d950dlevel0_row6\" class=\"row_heading level0 row6\" >Bagging Classifier</th>\n",
       "                        <td id=\"T_417f505b_07e6_11ec_91ec_107d1a1d950drow6_col0\" class=\"data row6 col0\" >0.901298</td>\n",
       "                        <td id=\"T_417f505b_07e6_11ec_91ec_107d1a1d950drow6_col1\" class=\"data row6 col1\" >0.901209</td>\n",
       "                        <td id=\"T_417f505b_07e6_11ec_91ec_107d1a1d950drow6_col2\" class=\"data row6 col2\" >0.902749</td>\n",
       "                        <td id=\"T_417f505b_07e6_11ec_91ec_107d1a1d950drow6_col3\" class=\"data row6 col3\" >0.901298</td>\n",
       "                        <td id=\"T_417f505b_07e6_11ec_91ec_107d1a1d950drow6_col4\" class=\"data row6 col4\" >0.965418</td>\n",
       "            </tr>\n",
       "            <tr>\n",
       "                        <th id=\"T_417f505b_07e6_11ec_91ec_107d1a1d950dlevel0_row7\" class=\"row_heading level0 row7\" >Logistic Regressor</th>\n",
       "                        <td id=\"T_417f505b_07e6_11ec_91ec_107d1a1d950drow7_col0\" class=\"data row7 col0\" >0.785317</td>\n",
       "                        <td id=\"T_417f505b_07e6_11ec_91ec_107d1a1d950drow7_col1\" class=\"data row7 col1\" >0.782116</td>\n",
       "                        <td id=\"T_417f505b_07e6_11ec_91ec_107d1a1d950drow7_col2\" class=\"data row7 col2\" >0.803129</td>\n",
       "                        <td id=\"T_417f505b_07e6_11ec_91ec_107d1a1d950drow7_col3\" class=\"data row7 col3\" >0.785317</td>\n",
       "                        <td id=\"T_417f505b_07e6_11ec_91ec_107d1a1d950drow7_col4\" class=\"data row7 col4\" >0.857742</td>\n",
       "            </tr>\n",
       "    </tbody></table>"
      ],
      "text/plain": [
       "<pandas.io.formats.style.Styler at 0x221c1870880>"
      ]
     },
     "execution_count": 56,
     "metadata": {},
     "output_type": "execute_result"
    }
   ],
   "source": [
    "def highlight_max(s):\n",
    "    is_max = s == s.max()\n",
    "    return ['background-color: yellow' if v else '' for v in is_max]\n",
    "\n",
    "scores_df  = pd.DataFrame(scores)\n",
    "index_model = {count: s for count, s in enumerate(scores_df[0])}\n",
    "col = {count+1: s for count, s in enumerate(['Accuracy','F1 Score','Precision','Recall','ROC AUC'])}\n",
    "scores_df = scores_df.drop(0, axis=1)\n",
    "scores_df = scores_df.rename(columns=col, index=index_model)\n",
    "scores_df.style.apply(highlight_max)\n"
   ]
  },
  {
   "cell_type": "markdown",
   "metadata": {},
   "source": [
    "###### Bagging Classifier"
   ]
  },
  {
   "cell_type": "code",
   "execution_count": 57,
   "metadata": {},
   "outputs": [],
   "source": [
    "from sklearn import tree\n",
    "model = BaggingClassifier(tree.DecisionTreeClassifier(random_state=1))\n"
   ]
  },
  {
   "cell_type": "code",
   "execution_count": 58,
   "metadata": {},
   "outputs": [
    {
     "data": {
      "text/plain": [
       "BaggingClassifier(base_estimator=DecisionTreeClassifier(random_state=1))"
      ]
     },
     "execution_count": 58,
     "metadata": {},
     "output_type": "execute_result"
    }
   ],
   "source": [
    "model.fit(X_train, y_train)"
   ]
  },
  {
   "cell_type": "code",
   "execution_count": 59,
   "metadata": {},
   "outputs": [],
   "source": [
    "pred1 = model.predict(X_test)"
   ]
  },
  {
   "cell_type": "code",
   "execution_count": 60,
   "metadata": {},
   "outputs": [
    {
     "name": "stdout",
     "output_type": "stream",
     "text": [
      "Classification Report \n",
      "\n",
      "              precision    recall  f1-score   support\n",
      "\n",
      "           0       0.88      0.93      0.90     83600\n",
      "           1       0.93      0.87      0.90     83600\n",
      "\n",
      "    accuracy                           0.90    167200\n",
      "   macro avg       0.90      0.90      0.90    167200\n",
      "weighted avg       0.90      0.90      0.90    167200\n",
      "\n"
     ]
    }
   ],
   "source": [
    "print(\"Classification Report \\n\")\n",
    "print(classification_report(y_test,pred1))\n"
   ]
  },
  {
   "cell_type": "code",
   "execution_count": 61,
   "metadata": {},
   "outputs": [
    {
     "name": "stdout",
     "output_type": "stream",
     "text": [
      "Confusion Matrix\n",
      "\n",
      "[[77896  5704]\n",
      " [10657 72943]]\n"
     ]
    }
   ],
   "source": [
    "print(\"Confusion Matrix\\n\")\n",
    "print(confusion_matrix(y_test,pred1))\n"
   ]
  },
  {
   "cell_type": "code",
   "execution_count": 62,
   "metadata": {},
   "outputs": [
    {
     "data": {
      "image/png": "[encoded data removed]",
      "text/plain": [
       "<Figure size 576x360 with 2 Axes>"
      ]
     },
     "metadata": {
      "needs_background": "light"
     },
     "output_type": "display_data"
    }
   ],
   "source": [
    "plt.figure(figsize=(8,5))\n",
    "sns.heatmap(confusion_matrix(y_test,pred1),cmap = 'viridis',annot = True,linewidths = 2,linecolor = 'white',fmt = '.2g')\n",
    "plt.xlabel('Predicted')\n",
    "plt.ylabel('Actual')\n",
    "plt.show()"
   ]
  },
  {
   "cell_type": "code",
   "execution_count": 63,
   "metadata": {},
   "outputs": [
    {
     "data": {
      "text/plain": [
       "array([0, 1, 1, ..., 0, 0, 0], dtype=int64)"
      ]
     },
     "execution_count": 63,
     "metadata": {},
     "output_type": "execute_result"
    }
   ],
   "source": [
    "pred2 = model.predict(X2)\n",
    "pred2"
   ]
  },
  {
   "cell_type": "code",
   "execution_count": 64,
   "metadata": {},
   "outputs": [],
   "source": [
    "from sklearn.metrics import roc_curve"
   ]
  },
  {
   "cell_type": "code",
   "execution_count": 65,
   "metadata": {},
   "outputs": [
    {
     "data": {
      "text/plain": [
       "0.902147129186603"
      ]
     },
     "execution_count": 65,
     "metadata": {},
     "output_type": "execute_result"
    }
   ],
   "source": [
    "score = roc_auc_score(y_test, pred1)\n",
    "score"
   ]
  },
  {
   "cell_type": "code",
   "execution_count": 66,
   "metadata": {},
   "outputs": [],
   "source": [
    "fpr, tpr, thresholds = roc_curve(y_test, pred1)"
   ]
  },
  {
   "cell_type": "code",
   "execution_count": 67,
   "metadata": {},
   "outputs": [
    {
     "data": {
      "image/png": "[encoded data removed]",
      "text/plain": [
       "<Figure size 432x288 with 1 Axes>"
      ]
     },
     "metadata": {
      "needs_background": "light"
     },
     "output_type": "display_data"
    }
   ],
   "source": [
    "plt.plot(fpr, tpr, label='ROC Curve (area=%0.2f)' % score)\n",
    "plt.plot([0,1], [0,1], 'k--')\n",
    "plt.legend()\n",
    "plt.show()"
   ]
  },
  {
   "cell_type": "markdown",
   "metadata": {},
   "source": [
    "##### 7. Submission"
   ]
  },
  {
   "cell_type": "code",
   "execution_count": 68,
   "metadata": {},
   "outputs": [
    {
     "data": {
      "text/html": [
       "<div>\n",
       "<style scoped>\n",
       "    .dataframe tbody tr th:only-of-type {\n",
       "        vertical-align: middle;\n",
       "    }\n",
       "\n",
       "    .dataframe tbody tr th {\n",
       "        vertical-align: top;\n",
       "    }\n",
       "\n",
       "    .dataframe thead th {\n",
       "        text-align: right;\n",
       "    }\n",
       "</style>\n",
       "<table border=\"1\" class=\"dataframe\">\n",
       "  <thead>\n",
       "    <tr style=\"text-align: right;\">\n",
       "      <th></th>\n",
       "      <th>id</th>\n",
       "      <th>Gender</th>\n",
       "      <th>Age</th>\n",
       "      <th>Driving_License</th>\n",
       "      <th>Region_Code</th>\n",
       "      <th>Previously_Insured</th>\n",
       "      <th>Vehicle_Age</th>\n",
       "      <th>Vehicle_Damage</th>\n",
       "      <th>Annual_Premium</th>\n",
       "      <th>Policy_Sales_Channel</th>\n",
       "      <th>Vintage</th>\n",
       "    </tr>\n",
       "  </thead>\n",
       "  <tbody>\n",
       "    <tr>\n",
       "      <th>0</th>\n",
       "      <td>381110</td>\n",
       "      <td>Male</td>\n",
       "      <td>25</td>\n",
       "      <td>1</td>\n",
       "      <td>11.0</td>\n",
       "      <td>1</td>\n",
       "      <td>&lt; 1 Year</td>\n",
       "      <td>No</td>\n",
       "      <td>35786.0</td>\n",
       "      <td>152.0</td>\n",
       "      <td>53</td>\n",
       "    </tr>\n",
       "    <tr>\n",
       "      <th>1</th>\n",
       "      <td>381111</td>\n",
       "      <td>Male</td>\n",
       "      <td>40</td>\n",
       "      <td>1</td>\n",
       "      <td>28.0</td>\n",
       "      <td>0</td>\n",
       "      <td>1-2 Year</td>\n",
       "      <td>Yes</td>\n",
       "      <td>33762.0</td>\n",
       "      <td>7.0</td>\n",
       "      <td>111</td>\n",
       "    </tr>\n",
       "    <tr>\n",
       "      <th>2</th>\n",
       "      <td>381112</td>\n",
       "      <td>Male</td>\n",
       "      <td>47</td>\n",
       "      <td>1</td>\n",
       "      <td>28.0</td>\n",
       "      <td>0</td>\n",
       "      <td>1-2 Year</td>\n",
       "      <td>Yes</td>\n",
       "      <td>40050.0</td>\n",
       "      <td>124.0</td>\n",
       "      <td>199</td>\n",
       "    </tr>\n",
       "    <tr>\n",
       "      <th>3</th>\n",
       "      <td>381113</td>\n",
       "      <td>Male</td>\n",
       "      <td>24</td>\n",
       "      <td>1</td>\n",
       "      <td>27.0</td>\n",
       "      <td>1</td>\n",
       "      <td>&lt; 1 Year</td>\n",
       "      <td>Yes</td>\n",
       "      <td>37356.0</td>\n",
       "      <td>152.0</td>\n",
       "      <td>187</td>\n",
       "    </tr>\n",
       "    <tr>\n",
       "      <th>4</th>\n",
       "      <td>381114</td>\n",
       "      <td>Male</td>\n",
       "      <td>27</td>\n",
       "      <td>1</td>\n",
       "      <td>28.0</td>\n",
       "      <td>1</td>\n",
       "      <td>&lt; 1 Year</td>\n",
       "      <td>No</td>\n",
       "      <td>59097.0</td>\n",
       "      <td>152.0</td>\n",
       "      <td>297</td>\n",
       "    </tr>\n",
       "  </tbody>\n",
       "</table>\n",
       "</div>"
      ],
      "text/plain": [
       "       id Gender  Age  Driving_License  Region_Code  Previously_Insured  \\\n",
       "0  381110   Male   25                1         11.0                   1   \n",
       "1  381111   Male   40                1         28.0                   0   \n",
       "2  381112   Male   47                1         28.0                   0   \n",
       "3  381113   Male   24                1         27.0                   1   \n",
       "4  381114   Male   27                1         28.0                   1   \n",
       "\n",
       "  Vehicle_Age Vehicle_Damage  Annual_Premium  Policy_Sales_Channel  Vintage  \n",
       "0    < 1 Year             No         35786.0                 152.0       53  \n",
       "1    1-2 Year            Yes         33762.0                   7.0      111  \n",
       "2    1-2 Year            Yes         40050.0                 124.0      199  \n",
       "3    < 1 Year            Yes         37356.0                 152.0      187  \n",
       "4    < 1 Year             No         59097.0                 152.0      297  "
      ]
     },
     "execution_count": 68,
     "metadata": {},
     "output_type": "execute_result"
    }
   ],
   "source": [
    "df1 = pd.read_csv('test.csv')\n",
    "df1.head()"
   ]
  },
  {
   "cell_type": "code",
   "execution_count": 69,
   "metadata": {},
   "outputs": [
    {
     "data": {
      "text/html": [
       "<div>\n",
       "<style scoped>\n",
       "    .dataframe tbody tr th:only-of-type {\n",
       "        vertical-align: middle;\n",
       "    }\n",
       "\n",
       "    .dataframe tbody tr th {\n",
       "        vertical-align: top;\n",
       "    }\n",
       "\n",
       "    .dataframe thead th {\n",
       "        text-align: right;\n",
       "    }\n",
       "</style>\n",
       "<table border=\"1\" class=\"dataframe\">\n",
       "  <thead>\n",
       "    <tr style=\"text-align: right;\">\n",
       "      <th></th>\n",
       "      <th>id</th>\n",
       "    </tr>\n",
       "  </thead>\n",
       "  <tbody>\n",
       "    <tr>\n",
       "      <th>0</th>\n",
       "      <td>381110</td>\n",
       "    </tr>\n",
       "    <tr>\n",
       "      <th>1</th>\n",
       "      <td>381111</td>\n",
       "    </tr>\n",
       "    <tr>\n",
       "      <th>2</th>\n",
       "      <td>381112</td>\n",
       "    </tr>\n",
       "    <tr>\n",
       "      <th>3</th>\n",
       "      <td>381113</td>\n",
       "    </tr>\n",
       "    <tr>\n",
       "      <th>4</th>\n",
       "      <td>381114</td>\n",
       "    </tr>\n",
       "  </tbody>\n",
       "</table>\n",
       "</div>"
      ],
      "text/plain": [
       "       id\n",
       "0  381110\n",
       "1  381111\n",
       "2  381112\n",
       "3  381113\n",
       "4  381114"
      ]
     },
     "execution_count": 69,
     "metadata": {},
     "output_type": "execute_result"
    }
   ],
   "source": [
    "df2 = pd.DataFrame(df1['id'])\n",
    "df2.head()"
   ]
  },
  {
   "cell_type": "code",
   "execution_count": 70,
   "metadata": {},
   "outputs": [],
   "source": [
    "df2.insert(1, 'Response',list(pred2) , True) "
   ]
  },
  {
   "cell_type": "code",
   "execution_count": 71,
   "metadata": {},
   "outputs": [
    {
     "data": {
      "text/html": [
       "<div>\n",
       "<style scoped>\n",
       "    .dataframe tbody tr th:only-of-type {\n",
       "        vertical-align: middle;\n",
       "    }\n",
       "\n",
       "    .dataframe tbody tr th {\n",
       "        vertical-align: top;\n",
       "    }\n",
       "\n",
       "    .dataframe thead th {\n",
       "        text-align: right;\n",
       "    }\n",
       "</style>\n",
       "<table border=\"1\" class=\"dataframe\">\n",
       "  <thead>\n",
       "    <tr style=\"text-align: right;\">\n",
       "      <th></th>\n",
       "      <th>id</th>\n",
       "      <th>Response</th>\n",
       "    </tr>\n",
       "  </thead>\n",
       "  <tbody>\n",
       "    <tr>\n",
       "      <th>0</th>\n",
       "      <td>381110</td>\n",
       "      <td>0</td>\n",
       "    </tr>\n",
       "    <tr>\n",
       "      <th>1</th>\n",
       "      <td>381111</td>\n",
       "      <td>1</td>\n",
       "    </tr>\n",
       "    <tr>\n",
       "      <th>2</th>\n",
       "      <td>381112</td>\n",
       "      <td>1</td>\n",
       "    </tr>\n",
       "    <tr>\n",
       "      <th>3</th>\n",
       "      <td>381113</td>\n",
       "      <td>0</td>\n",
       "    </tr>\n",
       "    <tr>\n",
       "      <th>4</th>\n",
       "      <td>381114</td>\n",
       "      <td>0</td>\n",
       "    </tr>\n",
       "  </tbody>\n",
       "</table>\n",
       "</div>"
      ],
      "text/plain": [
       "       id  Response\n",
       "0  381110         0\n",
       "1  381111         1\n",
       "2  381112         1\n",
       "3  381113         0\n",
       "4  381114         0"
      ]
     },
     "execution_count": 71,
     "metadata": {},
     "output_type": "execute_result"
    }
   ],
   "source": [
    "df2.head()"
   ]
  },
  {
   "cell_type": "code",
   "execution_count": 72,
   "metadata": {},
   "outputs": [
    {
     "data": {
      "text/plain": [
       "(127037, 2)"
      ]
     },
     "execution_count": 72,
     "metadata": {},
     "output_type": "execute_result"
    }
   ],
   "source": [
    "df2.shape"
   ]
  },
  {
   "cell_type": "code",
   "execution_count": 73,
   "metadata": {},
   "outputs": [],
   "source": [
    "df2.to_csv(\"Submission.csv\", index = True)"
   ]
  },
  {
   "cell_type": "markdown",
   "metadata": {},
   "source": [
    "* **Overall Conclusion -** \n",
    "* 1. People having Vehicles with age > 2 years have to pay more amount of annual premium and that has lead to higher number of people from that category not taking insurance. We need to modify the amount little bit so that people from that category do not skip taking insurance\n",
    "\n",
    "\n",
    "* 2. people having Vehicle Damage tend to buy insurance as compared to the ones who do not have any damage.\n",
    "\n",
    "\n",
    "* 3. Annual Premium does not depend on how many days people are associated with company. So we can modify the premium policy so that insurance company can attract more customers.\n",
    "\n",
    "\n",
    "* 4. Overall there many negative response than positive response from the customers thus we can assume that most of the product offering from the insurance company are degraded or the customer after sales response is not good or the product offering are not covering today's world customer needs or there is lack of marketing strategy from the insurance company.\n",
    "\n",
    "\n",
    "* 5. Thus, We can conclude that the insurance company overall need to improve in terms of all offerings and also increasing the marketability of the product so that those negative responses can be converted more positive responses.\n"
   ]
  },
  {
   "cell_type": "code",
   "execution_count": null,
   "metadata": {},
   "outputs": [],
   "source": []
  }
 ],
 "metadata": {
  "kernelspec": {
   "display_name": "Python 3",
   "language": "python",
   "name": "python3"
  },
  "language_info": {
   "codemirror_mode": {
    "name": "ipython",
    "version": 3
   },
   "file_extension": ".py",
   "mimetype": "text/x-python",
   "name": "python",
   "nbconvert_exporter": "python",
   "pygments_lexer": "ipython3",
   "version": "3.8.5"
  }
 },
 "nbformat": 4,
 "nbformat_minor": 4
}
